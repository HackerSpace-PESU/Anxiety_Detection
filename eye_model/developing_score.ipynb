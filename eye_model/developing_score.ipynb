{
 "cells": [
  {
   "cell_type": "code",
   "execution_count": 3,
   "metadata": {
    "scrolled": true
   },
   "outputs": [],
   "source": [
    "import cv2\n",
    "from gaze_tracking import GazeTracking\n",
    "import pandas as pd\n",
    "import datetime\n",
    "import numpy as np\n",
    "\n",
    "def get_data():\n",
    "    l=[]\n",
    "    center_left=[]\n",
    "    center_right=[]\n",
    "    l_x=[]\n",
    "    l_y=[]\n",
    "    r_x=[]\n",
    "    r_y=[]\n",
    "    d={'Time':[],'Left eye':[],'Right eye':[]}\n",
    "\n",
    "    gaze = GazeTracking()\n",
    "    webcam = cv2.VideoCapture(0)\n",
    "\n",
    "    while True:\n",
    "        # We get a new frame from the webcam\n",
    "        _, frame = webcam.read()\n",
    "\n",
    "        # We send this frame to GazeTracking to analyze it\n",
    "        gaze.refresh(frame)\n",
    "\n",
    "        frame = gaze.annotated_frame()\n",
    "        text = \"\"\n",
    "\n",
    "        if gaze.is_blinking():\n",
    "            text = \"Blinking\"\n",
    "            l.append(datetime.datetime.now())\n",
    "        elif gaze.is_left():\n",
    "            text = \"Looking left\"\n",
    "        elif gaze.is_center():\n",
    "            text = \"Looking right\"\n",
    "            \n",
    "\n",
    "        cv2.putText(frame, text, (90, 60), cv2.FONT_HERSHEY_DUPLEX, 1.6, (147, 58, 31), 2)\n",
    "\n",
    "        left_pupil = gaze.pupil_left_coords()\n",
    "        right_pupil = gaze.pupil_right_coords()\n",
    "        try:\n",
    "            l_x.append(gaze.pupil_left_coords()[0])\n",
    "            l_y.append(gaze.pupil_left_coords()[1])\n",
    "            r_x.append(gaze.pupil_right_coords()[0])\n",
    "            r_y.append(gaze.pupil_right_coords()[1])\n",
    "        except:            \n",
    "            l_x.append(0)\n",
    "            l_y.append(0)\n",
    "            r_x.append(0)\n",
    "            r_y.append(0)\n",
    "        cv2.putText(frame, \"Left pupil:  \" + str(left_pupil), (90, 130), cv2.FONT_HERSHEY_DUPLEX, 0.9, (147, 58, 31), 1)\n",
    "        cv2.putText(frame, \"Right pupil: \" + str(right_pupil), (90, 165), cv2.FONT_HERSHEY_DUPLEX, 0.9, (147, 58, 31), 1)\n",
    "        #print((left_pupil,right_pupil))\n",
    "        try:\n",
    "            d['Left eye'].append((left_pupil[0],left_pupil[1]))\n",
    "            d['Right eye'].append((right_pupil[0],right_pupil[1]))\n",
    "            d['Time'].append(datetime.datetime.now())\n",
    "        except:\n",
    "            d['Left eye'].append(0)\n",
    "            d['Right eye'].append(0)\n",
    "            d['Time'].append(datetime.datetime.now())\n",
    "\n",
    "        cv2.imshow(\"Frame\", frame)\n",
    "\n",
    "        if cv2.waitKey(1) == 27:\n",
    "            break\n",
    "\n",
    "\n",
    "    eye_coordinates=pd.DataFrame(d)\n",
    "    eye_coordinates.columns=['Time','Left eye','Right eye']\n",
    "    eye_blinking=pd.Series(l)\n",
    "    return eye_coordinates#,eye_blinking,center_right,center_left,l_x,l_y,r_x,r_y\n",
    "\n",
    "both=get_data()\n"
   ]
  },
  {
   "cell_type": "code",
   "execution_count": 2,
   "metadata": {},
   "outputs": [
    {
     "data": {
      "text/plain": [
       "\"import pickle\\nq=open('right_eye_center2.pkl','wb')\\npickle.dump(d,q)\\nq.close()\""
      ]
     },
     "execution_count": 2,
     "metadata": {},
     "output_type": "execute_result"
    }
   ],
   "source": [
    "\"\"\"import pickle\n",
    "q=open('right_eye_center2.pkl','wb')\n",
    "pickle.dump(d,q)\n",
    "q.close()\"\"\""
   ]
  },
  {
   "cell_type": "code",
   "execution_count": 3,
   "metadata": {},
   "outputs": [
    {
     "data": {
      "text/plain": [
       "\"import pickle\\nfile1=open('both_eye2.pkl','rb')\\nfile2=open('left_eye_center2.pkl','rb')\\nfile3=open('right_eye_center2.pkl','rb')\\nboth=pickle.load(file1)\\nl_c=pickle.load(file2)\\nr_c=pickle.load(file3)\\nfile1.close()\\nfile2.close()\\nfile3.close()\\n#both,l_c,r_c\""
      ]
     },
     "execution_count": 3,
     "metadata": {},
     "output_type": "execute_result"
    }
   ],
   "source": [
    "\"\"\"import pickle\n",
    "file1=open('both_eye2.pkl','rb')\n",
    "file2=open('left_eye_center2.pkl','rb')\n",
    "file3=open('right_eye_center2.pkl','rb')\n",
    "both=pickle.load(file1)\n",
    "l_c=pickle.load(file2)\n",
    "r_c=pickle.load(file3)\n",
    "file1.close()\n",
    "file2.close()\n",
    "file3.close()\n",
    "#both,l_c,r_c\"\"\"\n",
    "\n"
   ]
  },
  {
   "cell_type": "code",
   "execution_count": 4,
   "metadata": {},
   "outputs": [],
   "source": [
    "left=both['Left eye']\n",
    "right=both['Right eye']\n",
    "l_x=[x[0] if x!=0 else 0 for x in left]\n",
    "l_y=[x[1] if x!=0 else 0 for x in left]\n",
    "r_x=[x[0] if x!=0 else 0 for x in right]\n",
    "r_y=[x[1] if x!=0 else 0 for x in right]\n",
    "\n",
    "#left,right,l_x,l_y,r_x,r_y"
   ]
  },
  {
   "cell_type": "code",
   "execution_count": 5,
   "metadata": {},
   "outputs": [],
   "source": [
    "sec=[]\n",
    "for i in both['Time']:\n",
    "    sec.append(float(i.strftime('%S.%f')))\n",
    "#sec"
   ]
  },
  {
   "cell_type": "code",
   "execution_count": 6,
   "metadata": {},
   "outputs": [
    {
     "data": {
      "text/plain": [
       "Timedelta('0 days 00:02:54.344111')"
      ]
     },
     "execution_count": 6,
     "metadata": {},
     "output_type": "execute_result"
    }
   ],
   "source": [
    "both['Time'].iloc[len(both)-1]-both['Time'].iloc[0]\n",
    "#(len(both)/284.45)*60"
   ]
  },
  {
   "cell_type": "code",
   "execution_count": 7,
   "metadata": {},
   "outputs": [],
   "source": [
    "l_c_x=[x[0] if x!=0 else 0 for x in left]\n",
    "l_c_y=[x[1] if x!=0 else 0 for x in left]\n",
    "#len(l_c_y)"
   ]
  },
  {
   "cell_type": "code",
   "execution_count": 8,
   "metadata": {},
   "outputs": [],
   "source": [
    "import numpy as np\n",
    "def removeOutliers(x, outlierConstant):\n",
    "    a = np.array(x)\n",
    "    upper_quartile = np.percentile(a, 75)\n",
    "    lower_quartile = np.percentile(a, 25)\n",
    "    IQR = (upper_quartile - lower_quartile) * outlierConstant\n",
    "    quartileSet = (lower_quartile - IQR, upper_quartile + IQR)\n",
    "    resultList = []\n",
    "    for y in a.tolist():\n",
    "        if(y>=quartileSet[0] and y<=quartileSet[1]):\n",
    "            resultList.append(y)\n",
    "    return resultList\n",
    "l_c_x=removeOutliers(l_c_x,1.5)\n",
    "l_c_y=removeOutliers(l_c_y,1.5)\n",
    "l_x=[sum(removeOutliers(l_x,1.5))/len(removeOutliers(l_y,1.5)) if x==0 else x for x in l_x]\n",
    "l_y=[sum(removeOutliers(l_y,1.5))/len(removeOutliers(l_y,1.5)) if x==0 else x for x in l_y]\n",
    "#len(l_c_y)"
   ]
  },
  {
   "cell_type": "code",
   "execution_count": 9,
   "metadata": {},
   "outputs": [],
   "source": [
    "c1=sum(l_c_x)/len(l_c_x)\n",
    "c2=sum(l_c_y)/len(l_c_y)\n",
    "#c1,c2\n",
    "#left"
   ]
  },
  {
   "cell_type": "code",
   "execution_count": 10,
   "metadata": {},
   "outputs": [],
   "source": [
    "def distract(l_y,c2):\n",
    "    deltas=[[]]\n",
    "    sec=[]\n",
    "    per=[]\n",
    "    status=0\n",
    "    for i in range(len(l_y)):\n",
    "        if(l_y[i]<=(c2-5) or l_y[i]>=(c2+5)):\n",
    "            if status==0:\n",
    "                deltas.append([])\n",
    "                status=1\n",
    "            deltas[len(deltas)-1].append(both['Time'].iloc[i])\n",
    "        else:\n",
    "            status=0\n",
    "    for i in deltas[1:]:\n",
    "        sec.append(i[len(i)-1]-i[0])\n",
    "    for i in deltas[1:]:\n",
    "        per.append(len(i))\n",
    "    return sec,per\n",
    "deltas_x,per_x=distract(l_x,c1)\n",
    "deltas_y,per_y=distract(l_y,c2)\n",
    "deltas_x=[i.total_seconds()*60 for i in deltas_x]\n",
    "deltas_y=[i.total_seconds()*60 for i in deltas_y]\n",
    "#per_x"
   ]
  },
  {
   "cell_type": "code",
   "execution_count": 11,
   "metadata": {},
   "outputs": [
    {
     "data": {
      "text/plain": [
       "0.33216474869047613"
      ]
     },
     "execution_count": 11,
     "metadata": {},
     "output_type": "execute_result"
    }
   ],
   "source": [
    "def score(deltas_x,deltas_y,per_x,per_y):\n",
    "    s1,s2,s3,s4=0,0,0,0\n",
    "    for i in deltas_x:\n",
    "        if i!=0:\n",
    "            if(i<70):\n",
    "                s1+=((0.2*i)/70)\n",
    "            elif(i>=70 and i<=100):\n",
    "                s1+=(0.2+(((i-70)*0.4)/30))\n",
    "            elif(i>100):\n",
    "                s1+=(0.6+(((i-100)*0.4)/50))\n",
    "    s1=s1/len(deltas_x)\n",
    "    for i in deltas_y:\n",
    "        if i!=0:\n",
    "            if(i<70):\n",
    "                s2+=((0.2*i)/70)\n",
    "            elif(i>=70 and i<=100):\n",
    "                s2+=(0.2+(((i-70)*0.4)/30))\n",
    "            elif(i>100):\n",
    "                s2+=(0.6+(((i-100)*0.4)/50))\n",
    "    s2=s2/len(deltas_y)\n",
    "    for i in per_x:\n",
    "        if(i>=15 and i<=60):\n",
    "            s3+=((i-15)/45)\n",
    "        if i>60:\n",
    "            s3+=1\n",
    "    s3=s3/len(per_x)\n",
    "    for i in per_y:\n",
    "        if(i>=15 and i<=60):\n",
    "            s4+=((i-15)/45)\n",
    "        if i>60:\n",
    "            s4+=1\n",
    "    s4=s4/len(per_y)\n",
    "    return s1,s2,s3*12,s4*12\n",
    "final_score=sum(score(deltas_x,deltas_y,per_x,per_y))/4\n",
    "\n",
    "final_score\n",
    "            \n",
    "            \n",
    "    "
   ]
  },
  {
   "cell_type": "code",
   "execution_count": null,
   "metadata": {},
   "outputs": [],
   "source": []
  },
  {
   "cell_type": "code",
   "execution_count": null,
   "metadata": {},
   "outputs": [],
   "source": []
  }
 ],
 "metadata": {
  "kernelspec": {
   "display_name": "Python 3",
   "language": "python",
   "name": "python3"
  },
  "language_info": {
   "codemirror_mode": {
    "name": "ipython",
    "version": 3
   },
   "file_extension": ".py",
   "mimetype": "text/x-python",
   "name": "python",
   "nbconvert_exporter": "python",
   "pygments_lexer": "ipython3",
   "version": "3.7.6"
  }
 },
 "nbformat": 4,
 "nbformat_minor": 4
}
